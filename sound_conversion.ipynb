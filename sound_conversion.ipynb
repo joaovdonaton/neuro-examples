{
 "cells": [
  {
   "cell_type": "code",
   "execution_count": 1,
   "id": "e137ebd0-27df-49cf-8735-764f67fd9f8c",
   "metadata": {},
   "outputs": [],
   "source": [
    "from speech2spikes import S2S\n",
    "import os\n",
    "import torchaudio\n",
    "import torch\n",
    "\n",
    "PATH_AUDIO_SAMPLES = '/home/joao/dev/MLAudio/shotspotter/data/gunshots'"
   ]
  },
  {
   "cell_type": "code",
   "execution_count": 2,
   "id": "0d48bb99-6adc-4fdc-8107-30a1e79537c4",
   "metadata": {},
   "outputs": [],
   "source": [
    "files = [PATH_AUDIO_SAMPLES+'/'+fn for fn in os.listdir(PATH_AUDIO_SAMPLES)]\n",
    "\n",
    "data, rate = torchaudio.load(files[0])"
   ]
  },
  {
   "cell_type": "code",
   "execution_count": 4,
   "id": "1d5a7407-c8b1-4e78-8210-3261fdf01889",
   "metadata": {},
   "outputs": [
    {
     "data": {
      "text/plain": [
       "12000"
      ]
     },
     "execution_count": 4,
     "metadata": {},
     "output_type": "execute_result"
    }
   ],
   "source": [
    "#data = data[0, :]\n",
    "data.shape"
   ]
  },
  {
   "cell_type": "code",
   "execution_count": 74,
   "id": "43b18bc2-a383-4a28-8753-cfa3dd354a9b",
   "metadata": {},
   "outputs": [],
   "source": [
    "s2s = S2S()\n",
    "trains, targets = s2s([(data, torch.Tensor(0))])"
   ]
  },
  {
   "cell_type": "code",
   "execution_count": 84,
   "id": "ab90d4a9-e8b5-4306-9182-81a3c9a8d68a",
   "metadata": {},
   "outputs": [
    {
     "name": "stdout",
     "output_type": "stream",
     "text": [
      "torch.Size([1, 2, 20, 301])\n",
      "tensor([ 0.,  0.,  0.,  0.,  0.,  0.,  0.,  0.,  1.,  0.,  0.,  0.,  0.,  0.,\n",
      "         0.,  0., -1.,  0.,  0.,  0.,  0.,  0.,  0.,  0.,  0.,  0.,  0.,  0.,\n",
      "         0.,  0.,  0.,  0., -1.,  0.,  0.,  0.,  0.,  0.,  0.,  0.,  1.,  0.,\n",
      "         0.,  0.,  0.,  0.,  0.,  0.,  0.,  0.,  0.,  0.,  0.,  0.,  0.,  0.,\n",
      "         0.,  0.,  0.,  0.,  0.,  0.,  0.,  0.,  0.,  0.,  0.,  0.,  0.,  0.,\n",
      "         0., -1.,  0.,  0.,  0.,  0.,  1.,  0.,  0.,  0.,  0.,  0.,  0.,  0.,\n",
      "         0.,  0.,  0.,  0.,  0.,  0.,  0.,  0.,  0.,  0.,  0.,  0.,  0.,  0.,\n",
      "         0.,  0.,  0.,  0.,  0.,  0.,  1.,  0.,  0.,  0.,  0.,  0.,  0.,  0.,\n",
      "         0., -1.,  0.,  0., -1.,  0.,  0.,  0.,  0.,  0.,  0.,  0.,  0.,  1.,\n",
      "         0.,  0.,  0.,  0.,  0.,  0.,  0.,  0.,  0.,  0.,  0.,  0., -1.,  0.,\n",
      "         0.,  0.,  1.,  0.,  0.,  0.,  0.,  0.,  0.,  0.,  0.,  0.,  0.,  0.,\n",
      "         0.,  0.,  0.,  0.,  0.,  0.,  0.,  0.,  0.,  0.,  0.,  0.,  0.,  0.,\n",
      "         0.,  1.,  0.,  0.,  0.,  0.,  0.,  0.,  0.,  0.,  0.,  0., -1.,  0.,\n",
      "         0.,  0.,  0.,  0.,  0., -1., -1.,  0.,  1.,  0.,  0.,  1.,  1.,  0.,\n",
      "         0.,  0., -1., -1.,  0.,  0., -1.,  0.,  0.,  0.,  0.,  0.,  0.,  0.,\n",
      "        -1.,  0.,  0.,  0.,  0.,  0.,  0., -1.,  0.,  0.,  0.,  1.,  1.,  0.,\n",
      "         0.,  1.,  0.,  1.,  0.,  0.,  0.,  0.,  0.,  0.,  0.,  0.,  0.,  0.,\n",
      "         0.,  0.,  0.,  0.,  0.,  0.,  0.,  0.,  0.,  0.,  0.,  0.,  0.,  0.,\n",
      "         0.,  0.,  0.,  0.,  0., -1.,  0.,  0.,  0.,  1.,  0.,  0.,  0.,  0.,\n",
      "         0.,  0.,  0.,  0.,  0.,  0.,  0.,  0.,  0.,  0.,  0.,  0.,  0.,  0.,\n",
      "         0.,  0., -1.,  0.,  0.,  0.,  0.,  0.,  0.,  0.,  0.,  0., -1.,  0.,\n",
      "         0.,  1.,  0.,  0.,  0.,  0.,  0.])\n",
      "tensor([ 0.,  0.,  0., -1.,  0.,  0.,  0.,  0.,  1.,  0.,  0.,  0.,  0.,  0.,\n",
      "         0.,  0., -1.,  0.,  0.,  0.,  0.,  0.,  0.,  0.,  0.,  0.,  0.,  0.,\n",
      "         0.,  0.,  0.,  0., -1.,  0.,  1.,  0., -1.,  0.,  0.,  0.,  0.,  1.,\n",
      "         0.,  0.,  0., -1.,  0.,  1.,  0.,  0.,  0.,  0.,  0.,  0.,  0.,  0.,\n",
      "         0.,  0.,  0.,  0.,  0.,  1.,  0.,  0., -1.,  0.,  0.,  0.,  0.,  0.,\n",
      "         0., -1.,  0.,  0.,  0.,  0.,  1.,  0.,  0.,  0.,  0.,  0.,  0.,  0.,\n",
      "         0.,  0.,  0.,  0.,  0.,  0.,  0.,  0.,  0.,  0.,  0.,  0.,  0.,  0.,\n",
      "         0.,  0.,  0.,  0.,  0.,  0.,  0.,  0.,  0.,  0.,  0.,  0.,  0.,  0.,\n",
      "         0.,  0.,  0.,  0., -1.,  0.,  0.,  0.,  0.,  0.,  0.,  0.,  0.,  1.,\n",
      "         0.,  0.,  0.,  0.,  0.,  0.,  0.,  0.,  0.,  0.,  0., -1.,  0.,  0.,\n",
      "         0.,  0.,  1.,  0.,  0.,  0.,  0.,  0.,  0.,  0.,  0.,  0.,  0.,  0.,\n",
      "         0.,  0.,  0.,  0.,  0.,  0.,  0.,  0.,  0.,  0.,  0.,  0.,  0.,  0.,\n",
      "         1.,  0.,  0.,  0.,  0.,  0.,  0.,  0.,  0.,  0.,  0.,  0., -1.,  0.,\n",
      "         0.,  0.,  0.,  0.,  0., -1., -1.,  0.,  1.,  0.,  0.,  1.,  1.,  0.,\n",
      "         0.,  0., -1., -1.,  0., -1.,  0.,  0.,  0.,  0.,  0.,  0.,  0.,  0.,\n",
      "        -1.,  0.,  0.,  0.,  0.,  0., -1.,  0.,  0.,  0.,  0.,  1.,  1.,  1.,\n",
      "         0.,  0.,  1.,  0.,  0.,  0.,  0.,  0.,  0.,  0.,  0.,  0.,  0.,  0.,\n",
      "         0.,  0.,  0.,  0.,  0.,  0.,  0.,  0.,  0.,  0.,  0.,  0.,  0.,  0.,\n",
      "         0.,  0.,  0.,  0.,  0.,  0.,  0.,  0.,  0.,  0.,  0.,  0.,  0.,  0.,\n",
      "         0.,  0.,  0.,  0.,  0.,  0.,  0.,  0.,  0.,  0.,  0.,  0.,  0.,  0.,\n",
      "         0.,  0.,  0.,  0.,  0.,  0.,  0.,  0.,  0.,  0.,  0., -1.,  0.,  0.,\n",
      "         0.,  0.,  1.,  0.,  0.,  0.,  0.])\n"
     ]
    }
   ],
   "source": [
    "# NOTE: from s2s github, spikes are not separated into positive negative channels, we just have corresponding -1 and 1 spikes\n",
    "# So I think in each batch, index 0 are the changes in signals, and index 1 is the cumulative channel\n",
    "\n",
    "print(trains.shape)\n",
    "print(trains[0][0][0])\n",
    "\n",
    "print(trains[0][1][0])"
   ]
  },
  {
   "cell_type": "code",
   "execution_count": null,
   "id": "bfa114ed-0cbe-4f9f-b433-c820b23fc408",
   "metadata": {},
   "outputs": [],
   "source": []
  }
 ],
 "metadata": {
  "kernelspec": {
   "display_name": "Python 3 (ipykernel)",
   "language": "python",
   "name": "python3"
  },
  "language_info": {
   "codemirror_mode": {
    "name": "ipython",
    "version": 3
   },
   "file_extension": ".py",
   "mimetype": "text/x-python",
   "name": "python",
   "nbconvert_exporter": "python",
   "pygments_lexer": "ipython3",
   "version": "3.12.8"
  }
 },
 "nbformat": 4,
 "nbformat_minor": 5
}
